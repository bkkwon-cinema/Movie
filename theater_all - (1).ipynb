{
 "cells": [
  {
   "cell_type": "code",
   "execution_count": 19,
   "metadata": {},
   "outputs": [],
   "source": [
    "import pandas as pd\n",
    "import numpy as np\n",
    "import os"
   ]
  },
  {
   "cell_type": "code",
   "execution_count": 20,
   "metadata": {},
   "outputs": [
    {
     "data": {
      "text/plain": [
       "'c:\\\\python\\\\ind_project'"
      ]
     },
     "execution_count": 20,
     "metadata": {},
     "output_type": "execute_result"
    }
   ],
   "source": [
    "# 현재 작업중인 디렉토리\n",
    "os.getcwd()"
   ]
  },
  {
   "cell_type": "code",
   "execution_count": 21,
   "metadata": {},
   "outputs": [],
   "source": [
    "df=pd.read_csv('상영관_2024.csv')"
   ]
  },
  {
   "cell_type": "code",
   "execution_count": 22,
   "metadata": {},
   "outputs": [],
   "source": [
    "# # 내 컴퓨터의 필요한 파일을 찾는 방법\n",
    "# file_path='ind_project/상영관_2024.csv'\n",
    "# if os.path.exists(file_path):\n",
    "#     df=pd.read_csv(file_path)\n",
    "#     print(df.head())\n",
    "# else:\n",
    "#     print(f'찾을 수 없음')\n"
   ]
  },
  {
   "cell_type": "code",
   "execution_count": 23,
   "metadata": {},
   "outputs": [
    {
     "name": "stdout",
     "output_type": "stream",
     "text": [
      "<class 'pandas.core.frame.DataFrame'>\n",
      "RangeIndex: 613 entries, 0 to 612\n",
      "Data columns (total 22 columns):\n",
      " #   Column      Non-Null Count  Dtype  \n",
      "---  ------      --------------  -----  \n",
      " 0   Unnamed: 0  613 non-null    int64  \n",
      " 1   광역단체        613 non-null    object \n",
      " 2   기초단체        613 non-null    object \n",
      " 3   영화상영관코드     613 non-null    int64  \n",
      " 4   영화상영관명      613 non-null    object \n",
      " 5   총 스크린수      613 non-null    int64  \n",
      " 6   총 좌석수       613 non-null    object \n",
      " 7   필름 상영관수     613 non-null    int64  \n",
      " 8   2D 상영관수     613 non-null    int64  \n",
      " 9   3D 상영관수     613 non-null    int64  \n",
      " 10  4D 상영관수     613 non-null    int64  \n",
      " 11  IMAX 상영관수   613 non-null    int64  \n",
      " 12  상설여부        613 non-null    object \n",
      " 13  특별관운영여부     0 non-null      float64\n",
      " 14  가입여부        613 non-null    object \n",
      " 15  전송사업자명      612 non-null    object \n",
      " 16  개관일         598 non-null    object \n",
      " 17  영업상태        613 non-null    object \n",
      " 18  운영형태        613 non-null    object \n",
      " 19  주소          605 non-null    object \n",
      " 20  전화번호        523 non-null    object \n",
      " 21  홈페이지        457 non-null    object \n",
      "dtypes: float64(1), int64(8), object(13)\n",
      "memory usage: 105.5+ KB\n"
     ]
    }
   ],
   "source": [
    "df.info()"
   ]
  },
  {
   "cell_type": "code",
   "execution_count": 24,
   "metadata": {},
   "outputs": [
    {
     "name": "stdout",
     "output_type": "stream",
     "text": [
      "<class 'pandas.core.frame.DataFrame'>\n",
      "RangeIndex: 613 entries, 0 to 612\n",
      "Data columns (total 22 columns):\n",
      " #   Column      Non-Null Count  Dtype  \n",
      "---  ------      --------------  -----  \n",
      " 0   Unnamed: 0  613 non-null    int64  \n",
      " 1   광역단체        613 non-null    object \n",
      " 2   기초단체        613 non-null    object \n",
      " 3   영화상영관코드     613 non-null    int64  \n",
      " 4   영화상영관명      613 non-null    object \n",
      " 5   총 스크린수      613 non-null    int64  \n",
      " 6   총 좌석수       613 non-null    int64  \n",
      " 7   필름 상영관수     613 non-null    int64  \n",
      " 8   2D 상영관수     613 non-null    int64  \n",
      " 9   3D 상영관수     613 non-null    int64  \n",
      " 10  4D 상영관수     613 non-null    int64  \n",
      " 11  IMAX 상영관수   613 non-null    int64  \n",
      " 12  상설여부        613 non-null    object \n",
      " 13  특별관운영여부     0 non-null      float64\n",
      " 14  가입여부        613 non-null    object \n",
      " 15  전송사업자명      612 non-null    object \n",
      " 16  개관일         598 non-null    object \n",
      " 17  영업상태        613 non-null    object \n",
      " 18  운영형태        613 non-null    object \n",
      " 19  주소          605 non-null    object \n",
      " 20  전화번호        523 non-null    object \n",
      " 21  홈페이지        457 non-null    object \n",
      "dtypes: float64(1), int64(9), object(12)\n",
      "memory usage: 105.5+ KB\n"
     ]
    }
   ],
   "source": [
    "# 총 좌석수의 데이터 타입 object를 int64로 바꾸는 방법 / \n",
    "\n",
    "# 문자열을 결측값 np.nan으로 변환\n",
    "df['총 좌석수']=df['총 좌석수'].replace({'':np.nan,'NaN':np.nan,'abc':np.nan})\n",
    "\n",
    "# 결측값을 0으로 채우기\n",
    "df['총 좌석수']=df['총 좌석수'].fillna('0')\n",
    "\n",
    "#문자열에서 쉼표 제거 후 정수로 변환\n",
    "df['총 좌석수']=df['총 좌석수'].str.replace(',','').astype('int64')\n",
    "\n",
    "df.info()\n"
   ]
  },
  {
   "cell_type": "code",
   "execution_count": 28,
   "metadata": {},
   "outputs": [
    {
     "name": "stdout",
     "output_type": "stream",
     "text": [
      "총 스크린수      3457\n",
      "총 좌석수     478365\n",
      "dtype: int64\n"
     ]
    }
   ],
   "source": [
    "screen_sum=df[['총 스크린수','총 좌석수']].sum()\n",
    "print(screen_sum)"
   ]
  },
  {
   "cell_type": "code",
   "execution_count": 32,
   "metadata": {},
   "outputs": [
    {
     "name": "stdout",
     "output_type": "stream",
     "text": [
      "필름 상영관수        36\n",
      "2D 상영관수      3453\n",
      "3D 상영관수       986\n",
      "4D 상영관수        53\n",
      "IMAX 상영관수      19\n",
      "dtype: int64\n"
     ]
    }
   ],
   "source": [
    "site_total=df[['필름 상영관수','2D 상영관수','3D 상영관수','4D 상영관수','IMAX 상영관수']].sum()\n",
    "print(site_total)"
   ]
  },
  {
   "cell_type": "code",
   "execution_count": 106,
   "metadata": {},
   "outputs": [
    {
     "data": {
      "text/html": [
       "<div>\n",
       "<style scoped>\n",
       "    .dataframe tbody tr th:only-of-type {\n",
       "        vertical-align: middle;\n",
       "    }\n",
       "\n",
       "    .dataframe tbody tr th {\n",
       "        vertical-align: top;\n",
       "    }\n",
       "\n",
       "    .dataframe thead th {\n",
       "        text-align: right;\n",
       "    }\n",
       "</style>\n",
       "<table border=\"1\" class=\"dataframe\">\n",
       "  <thead>\n",
       "    <tr style=\"text-align: right;\">\n",
       "      <th></th>\n",
       "      <th>Unnamed: 0</th>\n",
       "      <th>영화상영관코드</th>\n",
       "      <th>총 스크린수</th>\n",
       "      <th>총 좌석수</th>\n",
       "      <th>필름 상영관수</th>\n",
       "      <th>2D 상영관수</th>\n",
       "      <th>3D 상영관수</th>\n",
       "      <th>4D 상영관수</th>\n",
       "      <th>IMAX 상영관수</th>\n",
       "      <th>특별관운영여부</th>\n",
       "      <th>행 합계</th>\n",
       "      <th>열 합계</th>\n",
       "      <th>극장수</th>\n",
       "    </tr>\n",
       "    <tr>\n",
       "      <th>상영관그룹</th>\n",
       "      <th></th>\n",
       "      <th></th>\n",
       "      <th></th>\n",
       "      <th></th>\n",
       "      <th></th>\n",
       "      <th></th>\n",
       "      <th></th>\n",
       "      <th></th>\n",
       "      <th></th>\n",
       "      <th></th>\n",
       "      <th></th>\n",
       "      <th></th>\n",
       "      <th></th>\n",
       "    </tr>\n",
       "  </thead>\n",
       "  <tbody>\n",
       "    <tr>\n",
       "      <th>CGV</th>\n",
       "      <td>68686</td>\n",
       "      <td>1190073</td>\n",
       "      <td>1388</td>\n",
       "      <td>202121</td>\n",
       "      <td>14</td>\n",
       "      <td>1400</td>\n",
       "      <td>461</td>\n",
       "      <td>41</td>\n",
       "      <td>19</td>\n",
       "      <td>0.0</td>\n",
       "      <td>0.0</td>\n",
       "      <td>0.0</td>\n",
       "      <td>196</td>\n",
       "    </tr>\n",
       "    <tr>\n",
       "      <th>기타</th>\n",
       "      <td>46325</td>\n",
       "      <td>884349</td>\n",
       "      <td>320</td>\n",
       "      <td>35011</td>\n",
       "      <td>22</td>\n",
       "      <td>316</td>\n",
       "      <td>96</td>\n",
       "      <td>0</td>\n",
       "      <td>0</td>\n",
       "      <td>0.0</td>\n",
       "      <td>0.0</td>\n",
       "      <td>0.0</td>\n",
       "      <td>149</td>\n",
       "    </tr>\n",
       "    <tr>\n",
       "      <th>롯데시네마</th>\n",
       "      <td>44447</td>\n",
       "      <td>857354</td>\n",
       "      <td>951</td>\n",
       "      <td>139478</td>\n",
       "      <td>0</td>\n",
       "      <td>959</td>\n",
       "      <td>303</td>\n",
       "      <td>11</td>\n",
       "      <td>0</td>\n",
       "      <td>0.0</td>\n",
       "      <td>0.0</td>\n",
       "      <td>0.0</td>\n",
       "      <td>149</td>\n",
       "    </tr>\n",
       "    <tr>\n",
       "      <th>메가박스</th>\n",
       "      <td>28120</td>\n",
       "      <td>719373</td>\n",
       "      <td>798</td>\n",
       "      <td>101755</td>\n",
       "      <td>0</td>\n",
       "      <td>778</td>\n",
       "      <td>126</td>\n",
       "      <td>1</td>\n",
       "      <td>0</td>\n",
       "      <td>0.0</td>\n",
       "      <td>0.0</td>\n",
       "      <td>0.0</td>\n",
       "      <td>119</td>\n",
       "    </tr>\n",
       "  </tbody>\n",
       "</table>\n",
       "</div>"
      ],
      "text/plain": [
       "       Unnamed: 0  영화상영관코드  총 스크린수   총 좌석수  필름 상영관수  2D 상영관수  3D 상영관수  \\\n",
       "상영관그룹                                                                   \n",
       "CGV         68686  1190073    1388  202121       14     1400      461   \n",
       "기타          46325   884349     320   35011       22      316       96   \n",
       "롯데시네마       44447   857354     951  139478        0      959      303   \n",
       "메가박스        28120   719373     798  101755        0      778      126   \n",
       "\n",
       "       4D 상영관수  IMAX 상영관수  특별관운영여부  행 합계  열 합계  극장수  \n",
       "상영관그룹                                                \n",
       "CGV         41         19      0.0   0.0   0.0  196  \n",
       "기타           0          0      0.0   0.0   0.0  149  \n",
       "롯데시네마       11          0      0.0   0.0   0.0  149  \n",
       "메가박스         1          0      0.0   0.0   0.0  119  "
      ]
     },
     "execution_count": 106,
     "metadata": {},
     "output_type": "execute_result"
    }
   ],
   "source": [
    "# 상영관그룹 열 생성\n",
    "df['상영관그룹']=df['영화상영관명'].apply(lambda x:'CGV' if 'CGV' in x else ('롯데시네마' if\n",
    "                '롯데시네마' in x else('메가박스' if '메가박스' in x else '기타')))\n",
    "\n",
    "# 상영관그룹의 그룹별 개수 계산\n",
    "group_count=df['상영관그룹'].value_counts()\n",
    "\n",
    "# 숫자형데이터만 선택\n",
    "df_numeric=df.select_dtypes(include='number')\n",
    "\n",
    "# 그룹별 합계 계산\n",
    "grouped_sum=df_numeric.groupby(df['상영관그룹']).sum()\n",
    "\n",
    "#그룹별 개수와 합계 결합\n",
    "grouped_sum['극장수']=grouped_sum.index.map(group_count)\n",
    "\n",
    "\n",
    "# print(grouped_sum)\n",
    "\n",
    "grouped_sum.head()\n"
   ]
  },
  {
   "cell_type": "code",
   "execution_count": 111,
   "metadata": {},
   "outputs": [
    {
     "data": {
      "text/html": [
       "<div>\n",
       "<style scoped>\n",
       "    .dataframe tbody tr th:only-of-type {\n",
       "        vertical-align: middle;\n",
       "    }\n",
       "\n",
       "    .dataframe tbody tr th {\n",
       "        vertical-align: top;\n",
       "    }\n",
       "\n",
       "    .dataframe thead th {\n",
       "        text-align: right;\n",
       "    }\n",
       "</style>\n",
       "<table border=\"1\" class=\"dataframe\">\n",
       "  <thead>\n",
       "    <tr style=\"text-align: right;\">\n",
       "      <th></th>\n",
       "      <th>극장수</th>\n",
       "      <th>총 스크린수</th>\n",
       "      <th>총 좌석수</th>\n",
       "    </tr>\n",
       "    <tr>\n",
       "      <th>상영관그룹</th>\n",
       "      <th></th>\n",
       "      <th></th>\n",
       "      <th></th>\n",
       "    </tr>\n",
       "  </thead>\n",
       "  <tbody>\n",
       "    <tr>\n",
       "      <th>CGV</th>\n",
       "      <td>196</td>\n",
       "      <td>1388</td>\n",
       "      <td>202121</td>\n",
       "    </tr>\n",
       "    <tr>\n",
       "      <th>기타</th>\n",
       "      <td>149</td>\n",
       "      <td>320</td>\n",
       "      <td>35011</td>\n",
       "    </tr>\n",
       "    <tr>\n",
       "      <th>롯데시네마</th>\n",
       "      <td>149</td>\n",
       "      <td>951</td>\n",
       "      <td>139478</td>\n",
       "    </tr>\n",
       "    <tr>\n",
       "      <th>메가박스</th>\n",
       "      <td>119</td>\n",
       "      <td>798</td>\n",
       "      <td>101755</td>\n",
       "    </tr>\n",
       "  </tbody>\n",
       "</table>\n",
       "</div>"
      ],
      "text/plain": [
       "       극장수  총 스크린수   총 좌석수\n",
       "상영관그룹                     \n",
       "CGV    196    1388  202121\n",
       "기타     149     320   35011\n",
       "롯데시네마  149     951  139478\n",
       "메가박스   119     798  101755"
      ]
     },
     "execution_count": 111,
     "metadata": {},
     "output_type": "execute_result"
    }
   ],
   "source": [
    "total_sum=grouped_sum[['극장수','총 스크린수','총 좌석수']]\n",
    "total_sum.head()"
   ]
  },
  {
   "cell_type": "code",
   "execution_count": 116,
   "metadata": {},
   "outputs": [
    {
     "name": "stderr",
     "output_type": "stream",
     "text": [
      "C:\\Users\\권병균\\AppData\\Local\\Temp\\ipykernel_23604\\3535364522.py:2: SettingWithCopyWarning: \n",
      "A value is trying to be set on a copy of a slice from a DataFrame.\n",
      "Try using .loc[row_indexer,col_indexer] = value instead\n",
      "\n",
      "See the caveats in the documentation: https://pandas.pydata.org/pandas-docs/stable/user_guide/indexing.html#returning-a-view-versus-a-copy\n",
      "  total_sum['스크린평균']=total_sum['총 스크린수']/total_sum['극장수']\n",
      "C:\\Users\\권병균\\AppData\\Local\\Temp\\ipykernel_23604\\3535364522.py:3: SettingWithCopyWarning: \n",
      "A value is trying to be set on a copy of a slice from a DataFrame.\n",
      "Try using .loc[row_indexer,col_indexer] = value instead\n",
      "\n",
      "See the caveats in the documentation: https://pandas.pydata.org/pandas-docs/stable/user_guide/indexing.html#returning-a-view-versus-a-copy\n",
      "  total_sum['좌석평균']=total_sum['총 좌석수']/total_sum['총 스크린수']\n"
     ]
    },
    {
     "data": {
      "text/html": [
       "<div>\n",
       "<style scoped>\n",
       "    .dataframe tbody tr th:only-of-type {\n",
       "        vertical-align: middle;\n",
       "    }\n",
       "\n",
       "    .dataframe tbody tr th {\n",
       "        vertical-align: top;\n",
       "    }\n",
       "\n",
       "    .dataframe thead th {\n",
       "        text-align: right;\n",
       "    }\n",
       "</style>\n",
       "<table border=\"1\" class=\"dataframe\">\n",
       "  <thead>\n",
       "    <tr style=\"text-align: right;\">\n",
       "      <th></th>\n",
       "      <th>극장수</th>\n",
       "      <th>총 스크린수</th>\n",
       "      <th>총 좌석수</th>\n",
       "      <th>스크린평균</th>\n",
       "      <th>좌석평균</th>\n",
       "    </tr>\n",
       "    <tr>\n",
       "      <th>상영관그룹</th>\n",
       "      <th></th>\n",
       "      <th></th>\n",
       "      <th></th>\n",
       "      <th></th>\n",
       "      <th></th>\n",
       "    </tr>\n",
       "  </thead>\n",
       "  <tbody>\n",
       "    <tr>\n",
       "      <th>CGV</th>\n",
       "      <td>196</td>\n",
       "      <td>1388</td>\n",
       "      <td>202121</td>\n",
       "      <td>7.081633</td>\n",
       "      <td>145.620317</td>\n",
       "    </tr>\n",
       "    <tr>\n",
       "      <th>기타</th>\n",
       "      <td>149</td>\n",
       "      <td>320</td>\n",
       "      <td>35011</td>\n",
       "      <td>2.147651</td>\n",
       "      <td>109.409375</td>\n",
       "    </tr>\n",
       "    <tr>\n",
       "      <th>롯데시네마</th>\n",
       "      <td>149</td>\n",
       "      <td>951</td>\n",
       "      <td>139478</td>\n",
       "      <td>6.382550</td>\n",
       "      <td>146.664564</td>\n",
       "    </tr>\n",
       "    <tr>\n",
       "      <th>메가박스</th>\n",
       "      <td>119</td>\n",
       "      <td>798</td>\n",
       "      <td>101755</td>\n",
       "      <td>6.705882</td>\n",
       "      <td>127.512531</td>\n",
       "    </tr>\n",
       "  </tbody>\n",
       "</table>\n",
       "</div>"
      ],
      "text/plain": [
       "       극장수  총 스크린수   총 좌석수     스크린평균        좌석평균\n",
       "상영관그룹                                           \n",
       "CGV    196    1388  202121  7.081633  145.620317\n",
       "기타     149     320   35011  2.147651  109.409375\n",
       "롯데시네마  149     951  139478  6.382550  146.664564\n",
       "메가박스   119     798  101755  6.705882  127.512531"
      ]
     },
     "execution_count": 116,
     "metadata": {},
     "output_type": "execute_result"
    }
   ],
   "source": [
    "#극장별 평균을 구하기\n",
    "total_sum['스크린평균']=total_sum['총 스크린수']/total_sum['극장수']\n",
    "total_sum['좌석평균']=total_sum['총 좌석수']/total_sum['총 스크린수']\n",
    "\n",
    "\n",
    "total_sum.head()\n",
    "\n"
   ]
  },
  {
   "cell_type": "code",
   "execution_count": 117,
   "metadata": {},
   "outputs": [
    {
     "name": "stdout",
     "output_type": "stream",
     "text": [
      "'theater_total.csv'로 저장되었습니다\n"
     ]
    }
   ],
   "source": [
    "total_sum.to_csv('theater_total.csv',encoding='utf-8')\n",
    "\n",
    "print(\"'theater_total.csv'로 저장되었습니다\")\n",
    "                 "
   ]
  }
 ],
 "metadata": {
  "kernelspec": {
   "display_name": "base",
   "language": "python",
   "name": "python3"
  },
  "language_info": {
   "codemirror_mode": {
    "name": "ipython",
    "version": 3
   },
   "file_extension": ".py",
   "mimetype": "text/x-python",
   "name": "python",
   "nbconvert_exporter": "python",
   "pygments_lexer": "ipython3",
   "version": "3.12.4"
  }
 },
 "nbformat": 4,
 "nbformat_minor": 2
}
